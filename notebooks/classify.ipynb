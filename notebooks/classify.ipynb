{
 "metadata": {
  "language_info": {
   "codemirror_mode": {
    "name": "ipython",
    "version": 3
   },
   "file_extension": ".py",
   "mimetype": "text/x-python",
   "name": "python",
   "nbconvert_exporter": "python",
   "pygments_lexer": "ipython3",
   "version": "3.8.5-final"
  },
  "orig_nbformat": 2,
  "kernelspec": {
   "name": "python3",
   "display_name": "Python 3.8.5 64-bit ('diffusion_modes_dnn_architecture': conda)",
   "metadata": {
    "interpreter": {
     "hash": "b22bb9d664669a8f6c298965f34c19bac276feaf201d6da74984cb3d46638a5c"
    }
   }
  }
 },
 "nbformat": 4,
 "nbformat_minor": 2,
 "cells": [
  {
   "cell_type": "code",
   "execution_count": 1,
   "metadata": {},
   "outputs": [],
   "source": [
    "from pathlib import Path\n",
    "\n",
    "import matplotlib.pyplot as plt\n",
    "import numpy as np\n",
    "import pandas as pd\n",
    "import torch\n",
    "\n",
    "from src.loaders import DataLoader\n",
    "from src.models import load_model\n",
    "from src.utils.loaders import load_x, load_variable"
   ]
  },
  {
   "cell_type": "code",
   "execution_count": 2,
   "metadata": {},
   "outputs": [],
   "source": [
    "dataset_path = Path(\".data\")\n",
    "dataset_name = \"a2AR_basal_TC685_names\"\n",
    "\n",
    "config_path  = Path(\"configs/main/config.py\")\n",
    "config = load_variable(\"config\", config_path)"
   ]
  },
  {
   "cell_type": "code",
   "execution_count": 3,
   "metadata": {},
   "outputs": [
    {
     "output_type": "stream",
     "name": "stderr",
     "text": [
      "Applying train preprocessors ...:   0%|          | 0/1 [00:00<?, ?it/s]2021-03-29 03:32:36,777 INFO PrepareDataloader - Applying Permute on train set ...\n",
      "Applying train preprocessors ...: 100%|██████████| 1/1 [00:00<00:00, 501.35it/s]\n",
      "Applying valid preprocessors ...:   0%|          | 0/1 [00:00<?, ?it/s]2021-03-29 03:32:36,798 INFO PrepareDataloader - Applying Permute on valid set ...\n",
      "Applying valid preprocessors ...: 100%|██████████| 1/1 [00:00<00:00, 501.47it/s]\n",
      "Applying test preprocessors ...:   0%|          | 0/1 [00:00<?, ?it/s]2021-03-29 03:32:36,824 INFO PrepareDataloader - Applying Permute on test set ...\n",
      "Applying test preprocessors ...: 100%|██████████| 1/1 [00:00<00:00, 334.15it/s]\n"
     ]
    }
   ],
   "source": [
    "_, _, test_loader = DataLoader.get_loaders(path_to_data=dataset_path, config=config)\n",
    "data = torch.cat([x for x, _ in test_loader])"
   ]
  },
  {
   "cell_type": "code",
   "execution_count": 4,
   "metadata": {},
   "outputs": [],
   "source": [
    "model_path = Path(\".data/models/resnet18/723/checkpoints/epoch=17.ckpt\")\n",
    "# model = load_model(config, model_path)"
   ]
  },
  {
   "cell_type": "code",
   "execution_count": 5,
   "metadata": {},
   "outputs": [],
   "source": [
    "# predictions = model(data).argmax(dim=1)"
   ]
  },
  {
   "cell_type": "code",
   "execution_count": 6,
   "metadata": {
    "tags": []
   },
   "outputs": [
    {
     "output_type": "stream",
     "name": "stderr",
     "text": [
      "Predictions:   0%|          | 0/1218 [00:00<?, ?it/s]2021-03-29 03:32:40,254 WARNING d:\\Programowanie\\NeuralNetwork\\src\\models\\resnet_blocks.py:411 - Implicit dimension choice for softmax has been deprecated. Change the call to include dim=X as an argument.\n",
      "Predictions: 100%|██████████| 1218/1218 [01:40<00:00, 12.10it/s]\n",
      "\n",
      "Prediction took: 103.9655 sec\n"
     ]
    }
   ],
   "source": [
    "from tools.predict import main as predict\n",
    "\n",
    "prediction_path = Path(\".data/predictions/dataset_name.npy\")\n",
    "predictions = predict(\n",
    "    config_path=config_path,\n",
    "    input_path=\"\",\n",
    "    model_path=model_path,\n",
    "    predict_path=prediction_path,\n",
    "    val_loader=test_loader,\n",
    ")"
   ]
  },
  {
   "cell_type": "code",
   "execution_count": 7,
   "metadata": {},
   "outputs": [],
   "source": [
    "predictions = load_x(prediction_path).squeeze().argmax(dim=1)\n",
    "predictions = [x.item() for x in predictions]"
   ]
  },
  {
   "cell_type": "code",
   "execution_count": 8,
   "metadata": {},
   "outputs": [
    {
     "output_type": "execute_result",
     "data": {
      "text/plain": [
       "<pandas.io.formats.style.Styler at 0x14ab322daf0>"
      ],
      "text/html": "<style  type=\"text/css\" >\n</style><table id=\"T_e2ca59db_902e_11eb_8487_9829a633096e\" ><thead>    <tr>        <th class=\"col_heading level0 col0\" >Dataset</th>        <th class=\"col_heading level0 col1\" >Anomalous</th>        <th class=\"col_heading level0 col2\" >Confined</th>        <th class=\"col_heading level0 col3\" >Directed</th>        <th class=\"col_heading level0 col4\" >Normal</th>    </tr></thead><tbody>\n                <tr>\n                                <td id=\"T_e2ca59db_902e_11eb_8487_9829a633096erow0_col0\" class=\"data row0 col0\" >a2AR_basal_TC685_names</td>\n                        <td id=\"T_e2ca59db_902e_11eb_8487_9829a633096erow0_col1\" class=\"data row0 col1\" >53</td>\n                        <td id=\"T_e2ca59db_902e_11eb_8487_9829a633096erow0_col2\" class=\"data row0 col2\" >27</td>\n                        <td id=\"T_e2ca59db_902e_11eb_8487_9829a633096erow0_col3\" class=\"data row0 col3\" >90</td>\n                        <td id=\"T_e2ca59db_902e_11eb_8487_9829a633096erow0_col4\" class=\"data row0 col4\" >1048</td>\n            </tr>\n    </tbody></table>"
     },
     "metadata": {},
     "execution_count": 8
    }
   ],
   "source": [
    "diffusion_type = [\"Anomalous\", \"Confined\", \"Directed\", \"Normal\"]\n",
    "stats = {diffusion_type[i]: list(predictions).count(i) for i in range(4)}\n",
    "\n",
    "stats_2 = {\"Dataset\": dataset_name}\n",
    "stats_2.update(stats)\n",
    "stats_2\n",
    "\n",
    "pd.DataFrame.from_dict(stats_2, orient=\"index\").T.style.hide_index()"
   ]
  },
  {
   "cell_type": "code",
   "execution_count": 9,
   "metadata": {},
   "outputs": [],
   "source": [
    "names = np.load(f\".data/{dataset_name}.npy\", allow_pickle=True)[:, 0]\n",
    "\n",
    "df = pd.DataFrame(zip(names, predictions))\n",
    "df.columns = [\"Name\", \"Class\"]\n",
    "df.to_csv(f\".data/predictions/{dataset_name}.csv\", index=False)"
   ]
  },
  {
   "cell_type": "code",
   "execution_count": 12,
   "metadata": {},
   "outputs": [
    {
     "output_type": "execute_result",
     "data": {
      "text/plain": [
       "<pandas.io.formats.style.Styler at 0x14b05ca1ca0>"
      ],
      "text/html": "<style  type=\"text/css\" >\n</style><table id=\"T_6b6f1faa_902f_11eb_975d_9829a633096e\" ><thead>    <tr>        <th class=\"col_heading level0 col0\" >Dataset</th>        <th class=\"col_heading level0 col1\" >Anomalous</th>        <th class=\"col_heading level0 col2\" >Confined</th>        <th class=\"col_heading level0 col3\" >Directed</th>        <th class=\"col_heading level0 col4\" >Normal</th>    </tr></thead><tbody>\n                <tr>\n                                <td id=\"T_6b6f1faa_902f_11eb_975d_9829a633096erow0_col0\" class=\"data row0 col0\" >Gi_basal_TC685_names</td>\n                        <td id=\"T_6b6f1faa_902f_11eb_975d_9829a633096erow0_col1\" class=\"data row0 col1\" >68</td>\n                        <td id=\"T_6b6f1faa_902f_11eb_975d_9829a633096erow0_col2\" class=\"data row0 col2\" >47</td>\n                        <td id=\"T_6b6f1faa_902f_11eb_975d_9829a633096erow0_col3\" class=\"data row0 col3\" >71</td>\n                        <td id=\"T_6b6f1faa_902f_11eb_975d_9829a633096erow0_col4\" class=\"data row0 col4\" >851</td>\n            </tr>\n            <tr>\n                                <td id=\"T_6b6f1faa_902f_11eb_975d_9829a633096erow1_col0\" class=\"data row1 col0\" >a2AR_basal_TC685_names</td>\n                        <td id=\"T_6b6f1faa_902f_11eb_975d_9829a633096erow1_col1\" class=\"data row1 col1\" >53</td>\n                        <td id=\"T_6b6f1faa_902f_11eb_975d_9829a633096erow1_col2\" class=\"data row1 col2\" >27</td>\n                        <td id=\"T_6b6f1faa_902f_11eb_975d_9829a633096erow1_col3\" class=\"data row1 col3\" >90</td>\n                        <td id=\"T_6b6f1faa_902f_11eb_975d_9829a633096erow1_col4\" class=\"data row1 col4\" >1048</td>\n            </tr>\n    </tbody></table>"
     },
     "metadata": {},
     "execution_count": 12
    }
   ],
   "source": [
    "df_dict = {\"Dataset\": [\"Gi_basal_TC685_names\", \"a2AR_basal_TC685_names\"], \"Anomalous\":[ 68, 53], \"Confined\": [47, 27], \"Directed\": [71, 90], \"Normal\": [851, 1048]}\n",
    "pd.DataFrame.from_dict(df_dict, orient=\"index\").T.style.hide_index()\n",
    "# Gi_basal_TC685_names\t68\t47\t71\t851\n",
    "# a2AR_basal_TC685_names\t53\t27\t90\t1048\n"
   ]
  },
  {
   "cell_type": "code",
   "execution_count": null,
   "metadata": {},
   "outputs": [],
   "source": []
  }
 ]
}